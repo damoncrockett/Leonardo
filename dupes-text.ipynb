{
 "cells": [
  {
   "cell_type": "code",
   "execution_count": 407,
   "metadata": {
    "collapsed": true
   },
   "outputs": [],
   "source": [
    "import pandas as pd\n",
    "from skimage import color\n",
    "from skimage.io import imread\n",
    "import numpy as np"
   ]
  },
  {
   "cell_type": "code",
   "execution_count": 408,
   "metadata": {
    "collapsed": true
   },
   "outputs": [],
   "source": [
    "df = pd.read_csv(\"./local_path.csv\")"
   ]
  },
  {
   "cell_type": "code",
   "execution_count": 409,
   "metadata": {
    "collapsed": true
   },
   "outputs": [],
   "source": [
    "for i in range(len(df)):\n",
    "    s = df.local_path.loc[i]\n",
    "    if \"DS_Store\" in s:\n",
    "        df = df.drop(i)\n",
    "        \n",
    "df.reset_index(drop=True,inplace=True)"
   ]
  },
  {
   "cell_type": "code",
   "execution_count": 410,
   "metadata": {
    "collapsed": false
   },
   "outputs": [
    {
     "data": {
      "text/plain": [
       "7148"
      ]
     },
     "execution_count": 410,
     "metadata": {},
     "output_type": "execute_result"
    }
   ],
   "source": [
    "len(df)"
   ]
  },
  {
   "cell_type": "code",
   "execution_count": 411,
   "metadata": {
    "collapsed": false
   },
   "outputs": [],
   "source": [
    "brightness = []\n",
    "n_channels = []\n",
    "\n",
    "for file in df.local_path:    \n",
    "    img = imread(file)\n",
    "    channels = len(img.shape)\n",
    "    n_channels.append(channels)\n",
    "    img_gray = color.rgb2gray(img)\n",
    "    \n",
    "    # because the bw are [0,255] and the color are [0,1]\n",
    "    if channels == 2:\n",
    "        val_mean = np.mean(img_gray) / 255    \n",
    "    else:\n",
    "        val_mean = np.mean(img_gray)\n",
    "        \n",
    "    brightness.append(val_mean)\n",
    "    \n",
    "df['val'] = brightness\n",
    "df['n_channels'] = n_channels"
   ]
  },
  {
   "cell_type": "code",
   "execution_count": 412,
   "metadata": {
    "collapsed": false
   },
   "outputs": [],
   "source": [
    "i_strings = []\n",
    "for i in range(len(df)):\n",
    "    s = df.local_path.loc[i]\n",
    "    i_string = s[45:].split(\"/\")[0]\n",
    "    i_strings.append(i_string)"
   ]
  },
  {
   "cell_type": "code",
   "execution_count": 413,
   "metadata": {
    "collapsed": false
   },
   "outputs": [],
   "source": [
    "df['i_strings'] = i_strings"
   ]
  },
  {
   "cell_type": "code",
   "execution_count": 414,
   "metadata": {
    "collapsed": false
   },
   "outputs": [],
   "source": [
    "from PIL import Image, ImageDraw"
   ]
  },
  {
   "cell_type": "code",
   "execution_count": 415,
   "metadata": {
    "collapsed": true
   },
   "outputs": [],
   "source": [
    "import math"
   ]
  },
  {
   "cell_type": "code",
   "execution_count": 416,
   "metadata": {
    "collapsed": true
   },
   "outputs": [],
   "source": [
    "side = int(math.ceil( np.sqrt(len(df)) ))"
   ]
  },
  {
   "cell_type": "code",
   "execution_count": 417,
   "metadata": {
    "collapsed": false
   },
   "outputs": [],
   "source": [
    "thumb_side = 64"
   ]
  },
  {
   "cell_type": "code",
   "execution_count": 418,
   "metadata": {
    "collapsed": false
   },
   "outputs": [],
   "source": [
    "px_w = side * thumb_side\n",
    "px_h = side * thumb_side"
   ]
  },
  {
   "cell_type": "code",
   "execution_count": 419,
   "metadata": {
    "collapsed": true
   },
   "outputs": [],
   "source": [
    "df.sort(\"val\",ascending=False,inplace=True)"
   ]
  },
  {
   "cell_type": "code",
   "execution_count": 420,
   "metadata": {
    "collapsed": false
   },
   "outputs": [],
   "source": [
    "df.reset_index(drop=True,inplace=True)"
   ]
  },
  {
   "cell_type": "code",
   "execution_count": 421,
   "metadata": {
    "collapsed": false
   },
   "outputs": [],
   "source": [
    "canvas = Image.new('RGB',(px_w, px_h),(50,50,50))\n",
    "x,y = range(side) * side, np.repeat(range(side),side)\n",
    "df['x'] = x[:len(df)]\n",
    "df['y'] = y[:len(df)]"
   ]
  },
  {
   "cell_type": "code",
   "execution_count": 422,
   "metadata": {
    "collapsed": false
   },
   "outputs": [],
   "source": [
    "for i in range(len(df)):\n",
    "    im = Image.open(df.local_path.loc[i])\n",
    "    im.thumbnail((thumb_side,thumb_side),Image.ANTIALIAS)\n",
    "    x_coord = df['x'].loc[i] * thumb_side\n",
    "    y_coord = df['y'].loc[i] * thumb_side\n",
    "    \n",
    "    pos_i = (40,5)\n",
    "    pos_i_string = (5,50)\n",
    "    i_string = df.i_strings.loc[i]\n",
    "    \n",
    "    draw = ImageDraw.Draw(im)\n",
    "    \n",
    "    if i < 5600:\n",
    "        draw.text(pos_i, str(i),fill=\"black\")\n",
    "        draw.text(pos_i_string,i_string,fill=\"black\")\n",
    "    else:\n",
    "        draw.text(pos_i, str(i),fill=\"white\")\n",
    "        draw.text(pos_i_string,i_string,fill=\"white\")\n",
    "    \n",
    "    canvas.paste(im,(x_coord,y_coord))\n",
    "    \n",
    "canvas.save(\"./dupes_text_clean.png\")"
   ]
  },
  {
   "cell_type": "code",
   "execution_count": 423,
   "metadata": {
    "collapsed": false
   },
   "outputs": [],
   "source": [
    "# dangerous move here, but deleting doubles..."
   ]
  },
  {
   "cell_type": "code",
   "execution_count": 424,
   "metadata": {
    "collapsed": true
   },
   "outputs": [],
   "source": [
    "import os"
   ]
  },
  {
   "cell_type": "code",
   "execution_count": 425,
   "metadata": {
    "collapsed": false
   },
   "outputs": [
    {
     "data": {
      "text/plain": [
       "'\\nfor i in range(len(df)):\\n    if i==0:\\n        val = df.val.loc[i]\\n        i_string = df.i_strings.loc[i]\\n    else:\\n        tmp = df.val.loc[i]\\n        temp = df.i_strings.loc[i]\\n        if tmp==val and temp==i_string:\\n            os.remove(df.local_path.loc[i])\\n        else:\\n            val = df.val.loc[i]\\n            i_string = df.i_strings.loc[i]\\n'"
      ]
     },
     "execution_count": 425,
     "metadata": {},
     "output_type": "execute_result"
    }
   ],
   "source": [
    "\"\"\"\n",
    "for i in range(len(df)):\n",
    "    if i==0:\n",
    "        val = df.val.loc[i]\n",
    "        i_string = df.i_strings.loc[i]\n",
    "    else:\n",
    "        tmp = df.val.loc[i]\n",
    "        temp = df.i_strings.loc[i]\n",
    "        if tmp==val and temp==i_string:\n",
    "            os.remove(df.local_path.loc[i])\n",
    "        else:\n",
    "            val = df.val.loc[i]\n",
    "            i_string = df.i_strings.loc[i]\n",
    "\"\"\""
   ]
  },
  {
   "cell_type": "code",
   "execution_count": null,
   "metadata": {
    "collapsed": true
   },
   "outputs": [],
   "source": []
  }
 ],
 "metadata": {
  "kernelspec": {
   "display_name": "Python 2",
   "language": "python",
   "name": "python2"
  },
  "language_info": {
   "codemirror_mode": {
    "name": "ipython",
    "version": 2
   },
   "file_extension": ".py",
   "mimetype": "text/x-python",
   "name": "python",
   "nbconvert_exporter": "python",
   "pygments_lexer": "ipython2",
   "version": "2.7.10"
  }
 },
 "nbformat": 4,
 "nbformat_minor": 0
}
