{
 "cells": [
  {
   "cell_type": "code",
   "execution_count": 4,
   "metadata": {
    "collapsed": true
   },
   "outputs": [],
   "source": [
    "from PIL import Image"
   ]
  },
  {
   "cell_type": "code",
   "execution_count": 5,
   "metadata": {
    "collapsed": true
   },
   "outputs": [],
   "source": [
    "import pandas as pd"
   ]
  },
  {
   "cell_type": "code",
   "execution_count": 6,
   "metadata": {
    "collapsed": true
   },
   "outputs": [],
   "source": [
    "df = pd.read_csv(\"./local_path.csv\")"
   ]
  },
  {
   "cell_type": "code",
   "execution_count": 11,
   "metadata": {
    "collapsed": false
   },
   "outputs": [
    {
     "name": "stdout",
     "output_type": "stream",
     "text": [
      "[Errno 2] No such file or directory: '/Users/damoncrockett/Desktop/Leo/Images/leon.2006.39.issue-5/42.jpg'\n",
      "tile cannot extend outside image\n",
      "tile cannot extend outside image\n",
      "tile cannot extend outside image\n",
      "tile cannot extend outside image\n",
      "tile cannot extend outside image\n",
      "tile cannot extend outside image\n",
      "tile cannot extend outside image\n",
      "tile cannot extend outside image\n",
      "tile cannot extend outside image\n",
      "tile cannot extend outside image\n",
      "tile cannot extend outside image\n",
      "tile cannot extend outside image\n",
      "tile cannot extend outside image\n",
      "tile cannot extend outside image\n",
      "tile cannot extend outside image\n",
      "tile cannot extend outside image\n"
     ]
    }
   ],
   "source": [
    "for file in list(df.local_path):\n",
    "    try:\n",
    "        im = Image.open(file)\n",
    "        w = im.width\n",
    "        h = im.height\n",
    "\n",
    "        if w > 200:\n",
    "            new_w = 200\n",
    "            new_h = int(round(h * new_w / w))\n",
    "            im = im.resize((new_w,new_h), Image.ANTIALIAS)\n",
    "            im.save(file)\n",
    "            \n",
    "    except Exception as e:\n",
    "        print e"
   ]
  }
 ],
 "metadata": {
  "kernelspec": {
   "display_name": "Python 2",
   "language": "python",
   "name": "python2"
  },
  "language_info": {
   "codemirror_mode": {
    "name": "ipython",
    "version": 2
   },
   "file_extension": ".py",
   "mimetype": "text/x-python",
   "name": "python",
   "nbconvert_exporter": "python",
   "pygments_lexer": "ipython2",
   "version": "2.7.10"
  }
 },
 "nbformat": 4,
 "nbformat_minor": 0
}
