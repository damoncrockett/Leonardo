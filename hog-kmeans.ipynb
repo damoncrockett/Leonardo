{
 "cells": [
  {
   "cell_type": "code",
   "execution_count": 4,
   "metadata": {
    "collapsed": false
   },
   "outputs": [],
   "source": [
    "from skimage.feature import hog\n",
    "from skimage import color\n",
    "from skimage.io import imread\n",
    "\n",
    "import pandas as pd\n",
    "\n",
    "df = pd.read_csv(\"./local_path.csv\")\n",
    "\n",
    "#PREFIX = \"/data/damoncrockett/\"\n",
    "\n",
    "#df.local_path = df.local_path.map(lambda x: PREFIX + x[33:])\n",
    "\n",
    "import numpy as np\n",
    "\n",
    "vector_list = []\n",
    "\n",
    "smp = 2\n",
    "\n",
    "for i in range(smp):\n",
    "    img = imread(df.local_path.loc[i])\n",
    "    \n",
    "    if img.shape[0] < 128 or img.shape[1] < 128:\n",
    "        df.drop(i)\n",
    "    else:\n",
    "        img_gray = color.rgb2gray(img)\n",
    "        fd = hog(img_gray, orientations=9, pixels_per_cell=(8, 8),cells_per_block=(4, 4))\n",
    "        vector_list.append(fd)\n",
    "        \n",
    "X = np.vstack(vector_list)"
   ]
  },
  {
   "cell_type": "code",
   "execution_count": 8,
   "metadata": {
    "collapsed": false
   },
   "outputs": [
    {
     "data": {
      "text/plain": [
       "(24336,)"
      ]
     },
     "execution_count": 8,
     "metadata": {},
     "output_type": "execute_result"
    }
   ],
   "source": [
    "fd.shape"
   ]
  },
  {
   "cell_type": "code",
   "execution_count": 2,
   "metadata": {
    "collapsed": true
   },
   "outputs": [],
   "source": [
    "from collections import Counter\n",
    "%matplotlib inline\n",
    "import matplotlib.pyplot as plt"
   ]
  },
  {
   "cell_type": "code",
   "execution_count": 3,
   "metadata": {
    "collapsed": false,
    "scrolled": true
   },
   "outputs": [
    {
     "data": {
      "text/plain": [
       "'\\nfrom sklearn.cluster import KMeans\\n\\nfor k in range(2,50):\\n\\n    kmeans = KMeans(n_clusters = k)\\n    kmeans.fit(X)\\n\\n    df = df[:len(vector_list)]\\n\\n    df[\\'clusters\\'] = kmeans.labels_\\n\\n    centroids = pd.DataFrame(kmeans.cluster_centers_)\\n\\n    from sklearn.decomposition import RandomizedPCA as pca\\n    pca = pca(n_components=2)\\n    Y = centroids.as_matrix()\\n    pca.fit(Y)\\n    subspace = pd.DataFrame(pca.transform(Y),columns=[\"x\",\"y\"])\\n\\n    x = subspace.x\\n    y = subspace.y\\n    fig, ax = plt.subplots(figsize=(4,4))\\n    ax.scatter(x, y)\\n\\n    plt.savefig(\"./\" + str(k) + \".png\")\\n    \\n    print k, Counter(list(df.clusters))\\n    '"
      ]
     },
     "execution_count": 3,
     "metadata": {},
     "output_type": "execute_result"
    }
   ],
   "source": [
    "\"\"\"\n",
    "from sklearn.cluster import KMeans\n",
    "\n",
    "for k in range(2,50):\n",
    "\n",
    "    kmeans = KMeans(n_clusters = k)\n",
    "    kmeans.fit(X)\n",
    "\n",
    "    df = df[:len(vector_list)]\n",
    "\n",
    "    df['clusters'] = kmeans.labels_\n",
    "\n",
    "    centroids = pd.DataFrame(kmeans.cluster_centers_)\n",
    "\n",
    "    from sklearn.decomposition import RandomizedPCA as pca\n",
    "    pca = pca(n_components=2)\n",
    "    Y = centroids.as_matrix()\n",
    "    pca.fit(Y)\n",
    "    subspace = pd.DataFrame(pca.transform(Y),columns=[\"x\",\"y\"])\n",
    "\n",
    "    x = subspace.x\n",
    "    y = subspace.y\n",
    "    fig, ax = plt.subplots(figsize=(4,4))\n",
    "    ax.scatter(x, y)\n",
    "\n",
    "    plt.savefig(\"./\" + str(k) + \".png\")\n",
    "    \n",
    "    print k, Counter(list(df.clusters))\n",
    "    \"\"\""
   ]
  },
  {
   "cell_type": "code",
   "execution_count": 4,
   "metadata": {
    "collapsed": true
   },
   "outputs": [],
   "source": [
    "from PIL import Image\n",
    "from shapely.geometry import Point\n",
    "import os"
   ]
  },
  {
   "cell_type": "code",
   "execution_count": 7,
   "metadata": {
    "collapsed": false
   },
   "outputs": [],
   "source": [
    "from sklearn.cluster import KMeans\n",
    "\n",
    "for k in range(7,50):\n",
    "\n",
    "    os.mkdir(\"/Users/damoncrockett/Desktop/Leo/\"+str(k))\n",
    "    \n",
    "    kmeans = KMeans(n_clusters = k)\n",
    "    kmeans.fit(X)\n",
    "\n",
    "    df = df[:len(vector_list)]\n",
    "\n",
    "    df['clusters'] = kmeans.labels_\n",
    "    centroids = pd.DataFrame(kmeans.cluster_centers_)\n",
    "    \n",
    "    euclidean_distance = []\n",
    "\n",
    "    hog_points = pd.DataFrame(X)\n",
    "\n",
    "    for i in range(len(df)):\n",
    "        tmp = hog_points.loc[i].as_matrix()\n",
    "        cluster_integer = int(df.clusters.loc[i])\n",
    "\n",
    "        euclidean_distance_i = np.linalg.norm(tmp - centroids.loc[cluster_integer].as_matrix())\n",
    "        euclidean_distance.append(euclidean_distance_i)\n",
    "\n",
    "    df['euclidean_distance'] = euclidean_distance\n",
    "    \n",
    "    for cluster_label in range(k):\n",
    "        tmp = df[df.clusters==cluster_label]\n",
    "        tmp.sort('euclidean_distance',inplace=True)\n",
    "        tmp.reset_index(drop=True,inplace=True)\n",
    "        \n",
    "        n = len(tmp)\n",
    "        \n",
    "        grid_side = int(round( np.sqrt(n) / 0.75 ))\n",
    "        \n",
    "        x,y = range(grid_side) * grid_side, np.repeat(range(grid_side),grid_side)\n",
    "        grid_list = pd.DataFrame(x,columns=['x'])\n",
    "        grid_list['y'] = y\n",
    "\n",
    "        point = []\n",
    "        for i in range(len(grid_list)):\n",
    "            point.append(Point(grid_list.x.loc[i],grid_list.y.loc[i]))\n",
    "\n",
    "        grid_list['point'] = point\n",
    "\n",
    "        open_grid = list(grid_list.point)\n",
    "\n",
    "        midpoint = int(round( grid_side / 2 ))\n",
    "        centroid_loc = Point(midpoint,midpoint)\n",
    "        \n",
    "        if n > 1:\n",
    "            open_grid.remove(centroid_loc)\n",
    "        \n",
    "        thumb_side = 128\n",
    "\n",
    "        px_w = thumb_side * grid_side\n",
    "        px_h = thumb_side * grid_side\n",
    "\n",
    "        canvas = Image.new('RGB',(px_w,px_h),(50,50,50))\n",
    "        \n",
    "        for i in range(n):\n",
    "            im = Image.open(tmp.local_path.loc[i])\n",
    "            im.thumbnail((thumb_side,thumb_side),Image.ANTIALIAS)\n",
    "            closest_open = min(open_grid,key=lambda x: centroid_loc.distance(x))\n",
    "            x = int(closest_open.x) * thumb_side\n",
    "            y = int(closest_open.y) * thumb_side\n",
    "            canvas.paste(im,(x,y))\n",
    "            open_grid.remove(closest_open)\n",
    "            \n",
    "        canvas.save(\"./\"+str(k)+\"/\"+str(cluster_label)+\".png\")"
   ]
  },
  {
   "cell_type": "code",
   "execution_count": null,
   "metadata": {
    "collapsed": true
   },
   "outputs": [],
   "source": []
  },
  {
   "cell_type": "code",
   "execution_count": null,
   "metadata": {
    "collapsed": true
   },
   "outputs": [],
   "source": []
  },
  {
   "cell_type": "code",
   "execution_count": null,
   "metadata": {
    "collapsed": true
   },
   "outputs": [],
   "source": []
  },
  {
   "cell_type": "code",
   "execution_count": null,
   "metadata": {
    "collapsed": true
   },
   "outputs": [],
   "source": []
  },
  {
   "cell_type": "code",
   "execution_count": null,
   "metadata": {
    "collapsed": true
   },
   "outputs": [],
   "source": []
  }
 ],
 "metadata": {
  "kernelspec": {
   "display_name": "Python 2",
   "language": "python",
   "name": "python2"
  },
  "language_info": {
   "codemirror_mode": {
    "name": "ipython",
    "version": 2
   },
   "file_extension": ".py",
   "mimetype": "text/x-python",
   "name": "python",
   "nbconvert_exporter": "python",
   "pygments_lexer": "ipython2",
   "version": "2.7.10"
  }
 },
 "nbformat": 4,
 "nbformat_minor": 0
}
