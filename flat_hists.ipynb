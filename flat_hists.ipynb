{
 "cells": [
  {
   "cell_type": "markdown",
   "metadata": {},
   "source": [
    "# Flat Histograms for Leonardo Visualization"
   ]
  },
  {
   "cell_type": "markdown",
   "metadata": {},
   "source": [
    "####Damon Crockett, IPAM"
   ]
  },
  {
   "cell_type": "code",
   "execution_count": 73,
   "metadata": {
    "collapsed": true
   },
   "outputs": [],
   "source": [
    "import pandas as pd\n",
    "import numpy as np\n",
    "from skimage import color\n",
    "from skimage.io import imread\n",
    "from skimage.feature import greycomatrix, greycoprops"
   ]
  },
  {
   "cell_type": "markdown",
   "metadata": {},
   "source": [
    "## Data and features"
   ]
  },
  {
   "cell_type": "code",
   "execution_count": 74,
   "metadata": {
    "collapsed": true
   },
   "outputs": [],
   "source": [
    "df = pd.read_csv(\"./local_path_savepoint_2_val_channels.csv\") # already have average brightness"
   ]
  },
  {
   "cell_type": "code",
   "execution_count": 75,
   "metadata": {
    "collapsed": false
   },
   "outputs": [
    {
     "data": {
      "text/plain": [
       "7072"
      ]
     },
     "execution_count": 75,
     "metadata": {},
     "output_type": "execute_result"
    }
   ],
   "source": [
    "len(df)"
   ]
  },
  {
   "cell_type": "code",
   "execution_count": 76,
   "metadata": {
    "collapsed": false
   },
   "outputs": [
    {
     "data": {
      "text/plain": [
       "2    5912\n",
       "3    1160\n",
       "dtype: int64"
      ]
     },
     "execution_count": 76,
     "metadata": {},
     "output_type": "execute_result"
    }
   ],
   "source": [
    "df.n_channels.value_counts()"
   ]
  },
  {
   "cell_type": "code",
   "execution_count": 80,
   "metadata": {
    "collapsed": false
   },
   "outputs": [],
   "source": [
    "df['random'] = np.random.choice(range(len(df)),size=len(df),replace=False) # for random histogram, before doing time"
   ]
  },
  {
   "cell_type": "code",
   "execution_count": 81,
   "metadata": {
    "collapsed": true
   },
   "outputs": [],
   "source": [
    "# now to get mean hue for the color images"
   ]
  },
  {
   "cell_type": "code",
   "execution_count": 83,
   "metadata": {
    "collapsed": true
   },
   "outputs": [],
   "source": [
    "hues = []\n",
    "\n",
    "for i in range(len(df)):\n",
    "    img = imread(df.local_path.loc[i])\n",
    "    n_channels = df.n_channels.loc[i]\n",
    "    \n",
    "    if n_channels == 3:\n",
    "        img_color = color.rgb2hsv(img)\n",
    "        hue = np.mean(img_color[:,:,0])\n",
    "        hues.append(hue)\n",
    "    else:\n",
    "        hues.append(\"bw\")\n",
    "        \n",
    "df['hue'] = hues"
   ]
  },
  {
   "cell_type": "code",
   "execution_count": 84,
   "metadata": {
    "collapsed": false
   },
   "outputs": [],
   "source": [
    "df.to_csv(\"./local_path_savepoint_2_val_channels_hue.csv\",index=False) # just in case"
   ]
  },
  {
   "cell_type": "code",
   "execution_count": 69,
   "metadata": {
    "collapsed": true
   },
   "outputs": [],
   "source": [
    "# now GLCM texture properties"
   ]
  },
  {
   "cell_type": "code",
   "execution_count": 87,
   "metadata": {
    "collapsed": false
   },
   "outputs": [],
   "source": [
    "contrast = []\n",
    "dissimilarity = []\n",
    "homogeneity = []\n",
    "ASM = []\n",
    "energy = []\n",
    "correlation = []\n",
    "\n",
    "for i in range(len(df)):\n",
    "    img = imread(df.local_path.loc[i])\n",
    "    img_gray = color.rgb2gray(img)\n",
    "    \n",
    "    # gray-level co-occurence matrix\n",
    "    glcm = greycomatrix(img_gray, [1], [0], levels=256, symmetric=True, normed=True)\n",
    "    \n",
    "    # glcm texture features\n",
    "    tmp = greycoprops(glcm, \"contrast\")\n",
    "    contrast.append(float(tmp))\n",
    "    \n",
    "    tmp = greycoprops(glcm, \"dissimilarity\")\n",
    "    dissimilarity.append(float(tmp))\n",
    "    \n",
    "    tmp = greycoprops(glcm, \"homogeneity\")\n",
    "    homogeneity.append(float(tmp))\n",
    "    \n",
    "    tmp = greycoprops(glcm, \"ASM\")\n",
    "    ASM.append(float(tmp))\n",
    "    \n",
    "    tmp = greycoprops(glcm, \"energy\")\n",
    "    energy.append(float(tmp))\n",
    "    \n",
    "    tmp = greycoprops(glcm, \"correlation\")\n",
    "    correlation.append(float(tmp))\n",
    "    \n",
    "df['contrast'] = contrast\n",
    "df['dissimilarity'] = dissimilarity\n",
    "df['homogeneity'] = homogeneity\n",
    "df['ASM'] = ASM\n",
    "df['energy'] = energy\n",
    "df['correlation'] = correlation"
   ]
  },
  {
   "cell_type": "code",
   "execution_count": 89,
   "metadata": {
    "collapsed": false
   },
   "outputs": [],
   "source": [
    "df.to_csv(\"/Users/damoncrockett/Desktop/Leo/local_path_savepoint_2_val_channels_hue_glcm.csv\",index=False)"
   ]
  },
  {
   "cell_type": "code",
   "execution_count": 90,
   "metadata": {
    "collapsed": true
   },
   "outputs": [],
   "source": [
    "# Okay great! Now we can plot. We may add clusters later, but for now, we're good."
   ]
  },
  {
   "cell_type": "markdown",
   "metadata": {},
   "source": [
    "## Histogram"
   ]
  },
  {
   "cell_type": "code",
   "execution_count": 220,
   "metadata": {
    "collapsed": true
   },
   "outputs": [],
   "source": [
    "df = pd.read_csv(\"/Users/damoncrockett/Desktop/Leo/local_path_savepoint_2_val_channels_hue_glcm.csv\")"
   ]
  },
  {
   "cell_type": "code",
   "execution_count": 221,
   "metadata": {
    "collapsed": true
   },
   "outputs": [],
   "source": [
    "num_bins = 52 # because it's a factor of len(df)"
   ]
  },
  {
   "cell_type": "code",
   "execution_count": 222,
   "metadata": {
    "collapsed": true
   },
   "outputs": [],
   "source": [
    "hist_var = \"local_path\""
   ]
  },
  {
   "cell_type": "code",
   "execution_count": 223,
   "metadata": {
    "collapsed": true
   },
   "outputs": [],
   "source": [
    "df.sort(hist_var,inplace=True)"
   ]
  },
  {
   "cell_type": "code",
   "execution_count": 224,
   "metadata": {
    "collapsed": false
   },
   "outputs": [],
   "source": [
    "m = len(df)\n",
    "per_bin = m / num_bins\n",
    "l = np.repeat(range(num_bins),per_bin)\n",
    "l = l[:m]"
   ]
  },
  {
   "cell_type": "code",
   "execution_count": 225,
   "metadata": {
    "collapsed": false
   },
   "outputs": [],
   "source": [
    "df['bin'] = l # this generates bins for whatever you just sorted on, just sequential integers"
   ]
  },
  {
   "cell_type": "code",
   "execution_count": 226,
   "metadata": {
    "collapsed": true
   },
   "outputs": [],
   "source": [
    "thumb_side = 128"
   ]
  },
  {
   "cell_type": "code",
   "execution_count": 227,
   "metadata": {
    "collapsed": true
   },
   "outputs": [],
   "source": [
    "px_w = (thumb_side) * num_bins\n",
    "px_h = (thumb_side) * per_bin"
   ]
  },
  {
   "cell_type": "code",
   "execution_count": 228,
   "metadata": {
    "collapsed": true
   },
   "outputs": [],
   "source": [
    "from PIL import Image"
   ]
  },
  {
   "cell_type": "code",
   "execution_count": 229,
   "metadata": {
    "collapsed": true
   },
   "outputs": [],
   "source": [
    "thumb_px = (thumb_side,thumb_side)"
   ]
  },
  {
   "cell_type": "code",
   "execution_count": 230,
   "metadata": {
    "collapsed": false
   },
   "outputs": [],
   "source": [
    "bins = list(set(list(df['bin'])))"
   ]
  },
  {
   "cell_type": "code",
   "execution_count": 231,
   "metadata": {
    "collapsed": true
   },
   "outputs": [],
   "source": [
    "y_group = \"n_channels\"\n",
    "y_group_2 = \"val\"\n",
    "y_sort = \"dissimilarity\"\n",
    "cut = [0,.3,.7,1]"
   ]
  },
  {
   "cell_type": "code",
   "execution_count": 232,
   "metadata": {
    "collapsed": false
   },
   "outputs": [],
   "source": [
    "canvas = Image.new('RGB',(px_w,px_h),(0,0,0))  # black canvas"
   ]
  },
  {
   "cell_type": "code",
   "execution_count": 233,
   "metadata": {
    "collapsed": false
   },
   "outputs": [
    {
     "name": "stderr",
     "output_type": "stream",
     "text": [
      "/Library/Python/2.7/site-packages/IPython/kernel/__main__.py:5: SettingWithCopyWarning: \n",
      "A value is trying to be set on a copy of a slice from a DataFrame.\n",
      "Try using .loc[row_indexer,col_indexer] = value instead\n",
      "\n",
      "See the the caveats in the documentation: http://pandas.pydata.org/pandas-docs/stable/indexing.html#indexing-view-versus-copy\n"
     ]
    }
   ],
   "source": [
    "for item in bins:\n",
    "    # select rows of df in bin\n",
    "    tmp = df[df['bin']==item]\n",
    "    \n",
    "    tmp['y_group_2'] = pd.cut(tmp[y_group_2],cut,labels=False)\n",
    "    \n",
    "    tmp = tmp.sort([y_group, 'y_group_2', y_sort], ascending=[True, False, True])\n",
    "    #tmp = tmp.sort([y_group, 'y_group_2'], ascending=[True, False])\n",
    "    #tmp = tmp.sort(y_group,ascending=True)\n",
    "    tmp.reset_index(drop=True,inplace=True)\n",
    "    \n",
    "    y_coord = px_h - thumb_side\n",
    "    x_coord = thumb_side * item\n",
    "    \n",
    "    for i in range(len(tmp)):\n",
    "        thumb = Image.open(tmp.local_path.loc[i])\n",
    "        thumb.thumbnail(thumb_px,Image.ANTIALIAS)\n",
    "        canvas.paste(thumb,(x_coord,y_coord))\n",
    "        y_coord = y_coord - thumb_side\n",
    "        \n",
    "canvas.save(\"./fh_tall52_time_channels_val3_3-7_dissimilarity_TFT.png\")"
   ]
  },
  {
   "cell_type": "code",
   "execution_count": null,
   "metadata": {
    "collapsed": true
   },
   "outputs": [],
   "source": []
  }
 ],
 "metadata": {
  "kernelspec": {
   "display_name": "Python 2",
   "language": "python",
   "name": "python2"
  },
  "language_info": {
   "codemirror_mode": {
    "name": "ipython",
    "version": 2
   },
   "file_extension": ".py",
   "mimetype": "text/x-python",
   "name": "python",
   "nbconvert_exporter": "python",
   "pygments_lexer": "ipython2",
   "version": "2.7.10"
  }
 },
 "nbformat": 4,
 "nbformat_minor": 0
}
