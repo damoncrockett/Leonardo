{
 "cells": [
  {
   "cell_type": "code",
   "execution_count": 12,
   "metadata": {
    "collapsed": true
   },
   "outputs": [],
   "source": [
    "import pandas as pd\n",
    "from skimage import color\n",
    "from skimage.io import imread\n",
    "from skimage.feature import greycomatrix, greycoprops, hog\n",
    "import numpy as np"
   ]
  },
  {
   "cell_type": "code",
   "execution_count": 13,
   "metadata": {
    "collapsed": true
   },
   "outputs": [],
   "source": [
    "df = pd.read_csv(\"./local_path.csv\")"
   ]
  },
  {
   "cell_type": "code",
   "execution_count": 14,
   "metadata": {
    "collapsed": true
   },
   "outputs": [],
   "source": [
    "props = ['contrast','dissimilarity','homogeneity','ASM','energy','correlation']"
   ]
  },
  {
   "cell_type": "code",
   "execution_count": 15,
   "metadata": {
    "collapsed": false
   },
   "outputs": [],
   "source": [
    "vector_list = []\n",
    "\n",
    "for file in df.local_path:    \n",
    "    img = imread(file)\n",
    "    img_gray = color.rgb2gray(img)\n",
    "    \n",
    "    # average brightness ( I should really norm this ) \n",
    "    val_mean = np.mean(img_gray)\n",
    "    \n",
    "    # gray-level co-occurence matrix\n",
    "    glcm = greycomatrix(img_gray, [1], [0], levels=256, symmetric=True, normed=True)\n",
    "    \n",
    "    prop_vector = []\n",
    "    \n",
    "    # glcm texture features\n",
    "    for prop in props:\n",
    "        tmp = greycoprops(glcm, prop)\n",
    "        prop_vector.append(float(tmp))\n",
    "        \n",
    "    # coarse hog features\n",
    "    fd = hog(img_gray, orientations=4, pixels_per_cell=(32, 32),cells_per_block=(1, 1))\n",
    "    hog_vector = fd\n",
    "    \n",
    "        \n",
    "    vector_list.append(np.asarray(prop_vector + [val_mean] + hog_vector.tolist()))\n",
    "    \n",
    "X = np.vstack(vector_list)"
   ]
  },
  {
   "cell_type": "code",
   "execution_count": 16,
   "metadata": {
    "collapsed": true
   },
   "outputs": [],
   "source": [
    "from PIL import Image\n",
    "from shapely.geometry import Point\n",
    "import os\n",
    "from sklearn.cluster import KMeans"
   ]
  },
  {
   "cell_type": "code",
   "execution_count": 17,
   "metadata": {
    "collapsed": false
   },
   "outputs": [
    {
     "name": "stderr",
     "output_type": "stream",
     "text": [
      "/Library/Python/2.7/site-packages/pandas/core/frame.py:2915: SettingWithCopyWarning: \n",
      "A value is trying to be set on a copy of a slice from a DataFrame\n",
      "\n",
      "See the the caveats in the documentation: http://pandas.pydata.org/pandas-docs/stable/indexing.html#indexing-view-versus-copy\n",
      "  inplace=inplace, kind=kind, na_position=na_position)\n"
     ]
    }
   ],
   "source": [
    "for k in [2,4,8,16,32,64]:\n",
    "\n",
    "    os.mkdir(\"/Users/damoncrockett/Desktop/Leo/\"+str(k))\n",
    "    \n",
    "    kmeans = KMeans(n_clusters = k)\n",
    "    kmeans.fit(X)\n",
    "\n",
    "    df = df[:len(vector_list)]\n",
    "\n",
    "    df['clusters'] = kmeans.labels_\n",
    "    centroids = pd.DataFrame(kmeans.cluster_centers_)\n",
    "    \n",
    "    euclidean_distance = []\n",
    "\n",
    "    feature_points = pd.DataFrame(X)\n",
    "\n",
    "    for i in range(len(df)):\n",
    "        tmp = feature_points.loc[i].as_matrix()\n",
    "        cluster_integer = int(df.clusters.loc[i])\n",
    "\n",
    "        euclidean_distance_i = np.linalg.norm(tmp - centroids.loc[cluster_integer].as_matrix())\n",
    "        euclidean_distance.append(euclidean_distance_i)\n",
    "\n",
    "    df['euclidean_distance'] = euclidean_distance\n",
    "    \n",
    "    for cluster_label in range(k):\n",
    "        tmp = df[df.clusters==cluster_label]\n",
    "        tmp.sort('euclidean_distance',inplace=True)\n",
    "        tmp.reset_index(drop=True,inplace=True)\n",
    "        \n",
    "        n = len(tmp)\n",
    "        \n",
    "        grid_side = int(round( np.sqrt(n) / 0.75 ))\n",
    "        \n",
    "        x,y = range(grid_side) * grid_side, np.repeat(range(grid_side),grid_side)\n",
    "        grid_list = pd.DataFrame(x,columns=['x'])\n",
    "        grid_list['y'] = y\n",
    "\n",
    "        point = []\n",
    "        for i in range(len(grid_list)):\n",
    "            point.append(Point(grid_list.x.loc[i],grid_list.y.loc[i]))\n",
    "\n",
    "        grid_list['point'] = point\n",
    "\n",
    "        open_grid = list(grid_list.point)\n",
    "\n",
    "        midpoint = int(round( grid_side / 2 ))\n",
    "        centroid_loc = Point(midpoint,midpoint)\n",
    "        \n",
    "        if n > 1:\n",
    "            open_grid.remove(centroid_loc)\n",
    "        \n",
    "        thumb_side = 64\n",
    "\n",
    "        px_w = thumb_side * grid_side\n",
    "        px_h = thumb_side * grid_side\n",
    "\n",
    "        canvas = Image.new('RGB',(px_w,px_h),(50,50,50))\n",
    "        \n",
    "        for i in range(n):\n",
    "            im = Image.open(tmp.local_path.loc[i])\n",
    "            im.thumbnail((thumb_side,thumb_side),Image.ANTIALIAS)\n",
    "            closest_open = min(open_grid,key=lambda x: centroid_loc.distance(x))\n",
    "            x = int(closest_open.x) * thumb_side\n",
    "            y = int(closest_open.y) * thumb_side\n",
    "            canvas.paste(im,(x,y))\n",
    "            open_grid.remove(closest_open)\n",
    "            \n",
    "        canvas.save(\"./\"+str(k)+\"/\"+str(cluster_label)+\".png\")"
   ]
  },
  {
   "cell_type": "code",
   "execution_count": null,
   "metadata": {
    "collapsed": true
   },
   "outputs": [],
   "source": []
  }
 ],
 "metadata": {
  "kernelspec": {
   "display_name": "Python 2",
   "language": "python",
   "name": "python2"
  },
  "language_info": {
   "codemirror_mode": {
    "name": "ipython",
    "version": 2
   },
   "file_extension": ".py",
   "mimetype": "text/x-python",
   "name": "python",
   "nbconvert_exporter": "python",
   "pygments_lexer": "ipython2",
   "version": "2.7.10"
  }
 },
 "nbformat": 4,
 "nbformat_minor": 0
}
