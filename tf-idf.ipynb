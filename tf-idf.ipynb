{
 "cells": [
  {
   "cell_type": "code",
   "execution_count": 1,
   "metadata": {
    "collapsed": true
   },
   "outputs": [],
   "source": [
    "import pandas as pd"
   ]
  },
  {
   "cell_type": "code",
   "execution_count": 2,
   "metadata": {
    "collapsed": true
   },
   "outputs": [],
   "source": [
    "df = pd.read_csv(\"./citations_fixed.csv\")"
   ]
  },
  {
   "cell_type": "code",
   "execution_count": 3,
   "metadata": {
    "collapsed": false
   },
   "outputs": [],
   "source": [
    "df = df[['pubdate','local_path','vol_iss']]"
   ]
  },
  {
   "cell_type": "code",
   "execution_count": 4,
   "metadata": {
    "collapsed": false
   },
   "outputs": [],
   "source": [
    "from dateutil import parser"
   ]
  },
  {
   "cell_type": "code",
   "execution_count": 5,
   "metadata": {
    "collapsed": false
   },
   "outputs": [],
   "source": [
    "df.pubdate = df.pubdate.apply(parser.parse)"
   ]
  },
  {
   "cell_type": "code",
   "execution_count": 6,
   "metadata": {
    "collapsed": false
   },
   "outputs": [],
   "source": [
    "df['year'] = df.pubdate.map(lambda x:x.year)\n",
    "df['month'] = df.pubdate.map(lambda x:x.month)"
   ]
  },
  {
   "cell_type": "code",
   "execution_count": 7,
   "metadata": {
    "collapsed": false
   },
   "outputs": [],
   "source": [
    "df = df.sort(['year','month'])"
   ]
  },
  {
   "cell_type": "code",
   "execution_count": 8,
   "metadata": {
    "collapsed": false
   },
   "outputs": [],
   "source": [
    "del df['pubdate']"
   ]
  },
  {
   "cell_type": "code",
   "execution_count": 9,
   "metadata": {
    "collapsed": true
   },
   "outputs": [],
   "source": [
    "df.reset_index(drop=True,inplace=True)"
   ]
  },
  {
   "cell_type": "code",
   "execution_count": 10,
   "metadata": {
    "collapsed": false
   },
   "outputs": [],
   "source": [
    "word_lists = []\n",
    "\n",
    "for i in range(len(df)):\n",
    "    tmp = pd.read_csv(df.local_path.loc[i])\n",
    "    word_list = list(set(list(tmp.WORDCOUNTS)))\n",
    "    word_lists.append(word_list)"
   ]
  },
  {
   "cell_type": "code",
   "execution_count": 11,
   "metadata": {
    "collapsed": true
   },
   "outputs": [],
   "source": [
    "df['word_list'] = word_lists"
   ]
  },
  {
   "cell_type": "code",
   "execution_count": 12,
   "metadata": {
    "collapsed": false
   },
   "outputs": [
    {
     "data": {
      "text/html": [
       "<div>\n",
       "<table border=\"1\" class=\"dataframe\">\n",
       "  <thead>\n",
       "    <tr style=\"text-align: right;\">\n",
       "      <th></th>\n",
       "      <th>local_path</th>\n",
       "      <th>vol_iss</th>\n",
       "      <th>year</th>\n",
       "      <th>month</th>\n",
       "      <th>word_list</th>\n",
       "    </tr>\n",
       "  </thead>\n",
       "  <tbody>\n",
       "    <tr>\n",
       "      <th>0</th>\n",
       "      <td>/Users/damoncrockett/Desktop/Leo/wordcounts/wo...</td>\n",
       "      <td>vol_1_iss_1</td>\n",
       "      <td>1968</td>\n",
       "      <td>1</td>\n",
       "      <td>[unimaginative, all, skeleton, founder, lack, ...</td>\n",
       "    </tr>\n",
       "    <tr>\n",
       "      <th>1</th>\n",
       "      <td>/Users/damoncrockett/Desktop/Leo/wordcounts/wo...</td>\n",
       "      <td>vol_1_iss_1</td>\n",
       "      <td>1968</td>\n",
       "      <td>1</td>\n",
       "      <td>[neige, corps, geometriques, fleurs, consists,...</td>\n",
       "    </tr>\n",
       "    <tr>\n",
       "      <th>2</th>\n",
       "      <td>/Users/damoncrockett/Desktop/Leo/wordcounts/wo...</td>\n",
       "      <td>vol_1_iss_1</td>\n",
       "      <td>1968</td>\n",
       "      <td>1</td>\n",
       "      <td>[neige, all, corps, reviewers, geometriques, f...</td>\n",
       "    </tr>\n",
       "    <tr>\n",
       "      <th>3</th>\n",
       "      <td>/Users/damoncrockett/Desktop/Leo/wordcounts/wo...</td>\n",
       "      <td>vol_1_iss_1</td>\n",
       "      <td>1968</td>\n",
       "      <td>1</td>\n",
       "      <td>[all, excellent, bien, yellow, alien, preface,...</td>\n",
       "    </tr>\n",
       "    <tr>\n",
       "      <th>4</th>\n",
       "      <td>/Users/damoncrockett/Desktop/Leo/wordcounts/wo...</td>\n",
       "      <td>vol_1_iss_1</td>\n",
       "      <td>1968</td>\n",
       "      <td>1</td>\n",
       "      <td>[essay, all, consider, saying, scratch, knotte...</td>\n",
       "    </tr>\n",
       "  </tbody>\n",
       "</table>\n",
       "</div>"
      ],
      "text/plain": [
       "                                          local_path      vol_iss  year  \\\n",
       "0  /Users/damoncrockett/Desktop/Leo/wordcounts/wo...  vol_1_iss_1  1968   \n",
       "1  /Users/damoncrockett/Desktop/Leo/wordcounts/wo...  vol_1_iss_1  1968   \n",
       "2  /Users/damoncrockett/Desktop/Leo/wordcounts/wo...  vol_1_iss_1  1968   \n",
       "3  /Users/damoncrockett/Desktop/Leo/wordcounts/wo...  vol_1_iss_1  1968   \n",
       "4  /Users/damoncrockett/Desktop/Leo/wordcounts/wo...  vol_1_iss_1  1968   \n",
       "\n",
       "   month                                          word_list  \n",
       "0      1  [unimaginative, all, skeleton, founder, lack, ...  \n",
       "1      1  [neige, corps, geometriques, fleurs, consists,...  \n",
       "2      1  [neige, all, corps, reviewers, geometriques, f...  \n",
       "3      1  [all, excellent, bien, yellow, alien, preface,...  \n",
       "4      1  [essay, all, consider, saying, scratch, knotte...  "
      ]
     },
     "execution_count": 12,
     "metadata": {},
     "output_type": "execute_result"
    }
   ],
   "source": [
    "df.head()"
   ]
  },
  {
   "cell_type": "code",
   "execution_count": 13,
   "metadata": {
    "collapsed": true
   },
   "outputs": [],
   "source": [
    "l = list(df.word_list)"
   ]
  },
  {
   "cell_type": "code",
   "execution_count": 14,
   "metadata": {
    "collapsed": true
   },
   "outputs": [],
   "source": [
    "all_words = [item for sublist in l for item in sublist]"
   ]
  },
  {
   "cell_type": "code",
   "execution_count": 16,
   "metadata": {
    "collapsed": false
   },
   "outputs": [],
   "source": [
    "all_words = list(set(all_words))"
   ]
  },
  {
   "cell_type": "code",
   "execution_count": 19,
   "metadata": {
    "collapsed": true
   },
   "outputs": [],
   "source": [
    "breaks = [5,10,20,50,100,1000,5000]"
   ]
  },
  {
   "cell_type": "code",
   "execution_count": 20,
   "metadata": {
    "collapsed": false
   },
   "outputs": [
    {
     "name": "stdout",
     "output_type": "stream",
     "text": [
      "5\n",
      "10\n",
      "20\n",
      "50\n",
      "100\n",
      "1000\n",
      "5000\n"
     ]
    }
   ],
   "source": [
    "word_dict = {}\n",
    "\n",
    "counter=-1\n",
    "for word in all_words:\n",
    "    dfreq = 0\n",
    "    for i in range(len(df)):\n",
    "        tmp = df.word_list.loc[i]\n",
    "        if word in tmp:\n",
    "            dfreq+=1\n",
    "    word_dict[word] = dfreq\n",
    "    counter+=1\n",
    "    if counter in breaks:\n",
    "        print counter"
   ]
  },
  {
   "cell_type": "code",
   "execution_count": 31,
   "metadata": {
    "collapsed": true
   },
   "outputs": [],
   "source": [
    "import numpy as np"
   ]
  },
  {
   "cell_type": "code",
   "execution_count": 32,
   "metadata": {
    "collapsed": false
   },
   "outputs": [
    {
     "name": "stdout",
     "output_type": "stream",
     "text": [
      "5\n",
      "10\n",
      "20\n",
      "50\n",
      "100\n",
      "1000\n",
      "5000\n"
     ]
    }
   ],
   "source": [
    "for i in range(len(df)):\n",
    "    tmp = pd.read_csv(df.local_path.loc[i])\n",
    "    dfreq = []\n",
    "    tf_idf = []\n",
    "    for j in range(len(tmp)):\n",
    "        word = tmp.WORDCOUNTS.loc[j]\n",
    "        tf = tmp.WEIGHT.loc[j]\n",
    "        dfreq_word = word_dict[word]\n",
    "        dfreq.append(dfreq_word)\n",
    "        tf_idf_word = tf * np.log( len(df) / (dfreq_word + 1) )\n",
    "        tf_idf.append(tf_idf_word)\n",
    "    tmp['dfreq'] = dfreq\n",
    "    tmp['tf_idf'] = tf_idf\n",
    "    tmp.to_csv(df.local_path.loc[i])\n",
    "    if i in breaks:\n",
    "        print i"
   ]
  },
  {
   "cell_type": "code",
   "execution_count": 36,
   "metadata": {
    "collapsed": true
   },
   "outputs": [],
   "source": [
    "top_words = []\n",
    "\n",
    "for i in range(len(df)):\n",
    "    tmp = pd.read_csv(df.local_path.loc[i])\n",
    "    tmp.sort('tf_idf', ascending = False, inplace=True)\n",
    "    top_words_article = list(tmp.WORDCOUNTS)[:10]\n",
    "    top_words.append(top_words_article)\n",
    "df['top_words'] = top_words"
   ]
  },
  {
   "cell_type": "code",
   "execution_count": 34,
   "metadata": {
    "collapsed": true
   },
   "outputs": [],
   "source": [
    "del df['word_list']"
   ]
  },
  {
   "cell_type": "code",
   "execution_count": 37,
   "metadata": {
    "collapsed": true
   },
   "outputs": [],
   "source": [
    "import os"
   ]
  },
  {
   "cell_type": "code",
   "execution_count": 38,
   "metadata": {
    "collapsed": false
   },
   "outputs": [],
   "source": [
    "df['basename'] = df.local_path.apply(os.path.basename)"
   ]
  },
  {
   "cell_type": "code",
   "execution_count": 40,
   "metadata": {
    "collapsed": false
   },
   "outputs": [],
   "source": [
    "del df['local_path']"
   ]
  },
  {
   "cell_type": "code",
   "execution_count": 42,
   "metadata": {
    "collapsed": true
   },
   "outputs": [],
   "source": [
    "df.to_csv(\"./citations_fixed_tfidf.csv\",index=False)"
   ]
  },
  {
   "cell_type": "code",
   "execution_count": 43,
   "metadata": {
    "collapsed": false
   },
   "outputs": [
    {
     "data": {
      "text/html": [
       "<div>\n",
       "<table border=\"1\" class=\"dataframe\">\n",
       "  <thead>\n",
       "    <tr style=\"text-align: right;\">\n",
       "      <th></th>\n",
       "      <th>vol_iss</th>\n",
       "      <th>year</th>\n",
       "      <th>month</th>\n",
       "      <th>top_words</th>\n",
       "      <th>basename</th>\n",
       "    </tr>\n",
       "  </thead>\n",
       "  <tbody>\n",
       "    <tr>\n",
       "      <th>0</th>\n",
       "      <td>vol_1_iss_1</td>\n",
       "      <td>1968</td>\n",
       "      <td>1</td>\n",
       "      <td>[brodatz, textures, crystallography, physiolog...</td>\n",
       "      <td>wordcounts_10.2307_1571915.CSV</td>\n",
       "    </tr>\n",
       "    <tr>\n",
       "      <th>1</th>\n",
       "      <td>vol_1_iss_1</td>\n",
       "      <td>1968</td>\n",
       "      <td>1</td>\n",
       "      <td>[symetrie, la, un, mathematique, et, une, est,...</td>\n",
       "      <td>wordcounts_10.2307_1571912.CSV</td>\n",
       "    </tr>\n",
       "    <tr>\n",
       "      <th>2</th>\n",
       "      <td>vol_1_iss_1</td>\n",
       "      <td>1968</td>\n",
       "      <td>1</td>\n",
       "      <td>[symetrie, les, invariants, gibson, la, en, un...</td>\n",
       "      <td>wordcounts_10.2307_1571911.CSV</td>\n",
       "    </tr>\n",
       "    <tr>\n",
       "      <th>3</th>\n",
       "      <td>vol_1_iss_1</td>\n",
       "      <td>1968</td>\n",
       "      <td>1</td>\n",
       "      <td>[monticelli, meissonier, vous, gauguin, je, ma...</td>\n",
       "      <td>wordcounts_10.2307_1571917.CSV</td>\n",
       "    </tr>\n",
       "    <tr>\n",
       "      <th>4</th>\n",
       "      <td>vol_1_iss_1</td>\n",
       "      <td>1968</td>\n",
       "      <td>1</td>\n",
       "      <td>[je, toner, rattan, imitatio, egelstelling, be...</td>\n",
       "      <td>wordcounts_10.2307_1571901.CSV</td>\n",
       "    </tr>\n",
       "  </tbody>\n",
       "</table>\n",
       "</div>"
      ],
      "text/plain": [
       "       vol_iss  year  month  \\\n",
       "0  vol_1_iss_1  1968      1   \n",
       "1  vol_1_iss_1  1968      1   \n",
       "2  vol_1_iss_1  1968      1   \n",
       "3  vol_1_iss_1  1968      1   \n",
       "4  vol_1_iss_1  1968      1   \n",
       "\n",
       "                                           top_words  \\\n",
       "0  [brodatz, textures, crystallography, physiolog...   \n",
       "1  [symetrie, la, un, mathematique, et, une, est,...   \n",
       "2  [symetrie, les, invariants, gibson, la, en, un...   \n",
       "3  [monticelli, meissonier, vous, gauguin, je, ma...   \n",
       "4  [je, toner, rattan, imitatio, egelstelling, be...   \n",
       "\n",
       "                         basename  \n",
       "0  wordcounts_10.2307_1571915.CSV  \n",
       "1  wordcounts_10.2307_1571912.CSV  \n",
       "2  wordcounts_10.2307_1571911.CSV  \n",
       "3  wordcounts_10.2307_1571917.CSV  \n",
       "4  wordcounts_10.2307_1571901.CSV  "
      ]
     },
     "execution_count": 43,
     "metadata": {},
     "output_type": "execute_result"
    }
   ],
   "source": [
    "df.head()"
   ]
  },
  {
   "cell_type": "markdown",
   "metadata": {},
   "source": [
    "##Saving the document frequency data as dataframe"
   ]
  },
  {
   "cell_type": "code",
   "execution_count": 24,
   "metadata": {
    "collapsed": false
   },
   "outputs": [],
   "source": [
    "d = pd.DataFrame.from_dict(word_dict,orient='index')"
   ]
  },
  {
   "cell_type": "code",
   "execution_count": 25,
   "metadata": {
    "collapsed": true
   },
   "outputs": [],
   "source": [
    "d.reset_index(drop=False,inplace=True)"
   ]
  },
  {
   "cell_type": "code",
   "execution_count": 27,
   "metadata": {
    "collapsed": false
   },
   "outputs": [],
   "source": [
    "d.rename(columns = {'index':'word', 0:'document_frequency'}, inplace=True)"
   ]
  },
  {
   "cell_type": "code",
   "execution_count": 29,
   "metadata": {
    "collapsed": false
   },
   "outputs": [],
   "source": [
    "d.to_csv(\"./document_frequency.csv\",index=False)"
   ]
  }
 ],
 "metadata": {
  "kernelspec": {
   "display_name": "Python 2",
   "language": "python",
   "name": "python2"
  },
  "language_info": {
   "codemirror_mode": {
    "name": "ipython",
    "version": 2
   },
   "file_extension": ".py",
   "mimetype": "text/x-python",
   "name": "python",
   "nbconvert_exporter": "python",
   "pygments_lexer": "ipython2",
   "version": "2.7.10"
  }
 },
 "nbformat": 4,
 "nbformat_minor": 0
}
