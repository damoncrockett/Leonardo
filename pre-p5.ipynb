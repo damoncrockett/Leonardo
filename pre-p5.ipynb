{
 "cells": [
  {
   "cell_type": "code",
   "execution_count": 12,
   "metadata": {
    "collapsed": true
   },
   "outputs": [],
   "source": [
    "import pandas as pd"
   ]
  },
  {
   "cell_type": "code",
   "execution_count": 13,
   "metadata": {
    "collapsed": true
   },
   "outputs": [],
   "source": [
    "df = pd.read_csv(\"./citations_fixed.csv\")"
   ]
  },
  {
   "cell_type": "code",
   "execution_count": 15,
   "metadata": {
    "collapsed": false
   },
   "outputs": [],
   "source": [
    "top_words = []\n",
    "\n",
    "for i in range(len(df)):\n",
    "    tmp = pd.read_csv(df.local_path.loc[i])\n",
    "    tmp.sort('tf_idf', ascending = False, inplace=True)\n",
    "    top_words_article = list(tmp.WORDCOUNTS)[:10]\n",
    "    top_words.append(top_words_article)\n",
    "df['top_words'] = top_words"
   ]
  },
  {
   "cell_type": "code",
   "execution_count": 16,
   "metadata": {
    "collapsed": true
   },
   "outputs": [],
   "source": [
    "df = df[['pubdate','local_path','top_words']]"
   ]
  },
  {
   "cell_type": "code",
   "execution_count": 17,
   "metadata": {
    "collapsed": true
   },
   "outputs": [],
   "source": [
    "from dateutil import parser"
   ]
  },
  {
   "cell_type": "code",
   "execution_count": 19,
   "metadata": {
    "collapsed": true
   },
   "outputs": [],
   "source": [
    "df.pubdate = df.pubdate.apply(parser.parse)"
   ]
  },
  {
   "cell_type": "code",
   "execution_count": 20,
   "metadata": {
    "collapsed": false
   },
   "outputs": [],
   "source": [
    "df['year'] = df.pubdate.map(lambda x:x.year)\n",
    "df['month'] = df.pubdate.map(lambda x:x.month)"
   ]
  },
  {
   "cell_type": "code",
   "execution_count": 21,
   "metadata": {
    "collapsed": true
   },
   "outputs": [],
   "source": [
    "df = df.sort(['year','month'])"
   ]
  },
  {
   "cell_type": "code",
   "execution_count": 22,
   "metadata": {
    "collapsed": true
   },
   "outputs": [],
   "source": [
    "del df['pubdate']"
   ]
  },
  {
   "cell_type": "code",
   "execution_count": 23,
   "metadata": {
    "collapsed": false
   },
   "outputs": [],
   "source": [
    "df['my'] = df.month.apply(str) + \".\" + df.year.apply(str)"
   ]
  },
  {
   "cell_type": "code",
   "execution_count": 26,
   "metadata": {
    "collapsed": true
   },
   "outputs": [],
   "source": [
    "df.reset_index(drop=True,inplace=True)"
   ]
  },
  {
   "cell_type": "code",
   "execution_count": 27,
   "metadata": {
    "collapsed": false
   },
   "outputs": [
    {
     "data": {
      "text/html": [
       "<div>\n",
       "<table border=\"1\" class=\"dataframe\">\n",
       "  <thead>\n",
       "    <tr style=\"text-align: right;\">\n",
       "      <th></th>\n",
       "      <th>local_path</th>\n",
       "      <th>top_words</th>\n",
       "      <th>year</th>\n",
       "      <th>month</th>\n",
       "      <th>my</th>\n",
       "    </tr>\n",
       "  </thead>\n",
       "  <tbody>\n",
       "    <tr>\n",
       "      <th>0</th>\n",
       "      <td>/Users/damoncrockett/Desktop/Leo/wordcounts/wo...</td>\n",
       "      <td>[brodatz, textures, crystallography, physiolog...</td>\n",
       "      <td>1968</td>\n",
       "      <td>1</td>\n",
       "      <td>1.1968</td>\n",
       "    </tr>\n",
       "    <tr>\n",
       "      <th>1</th>\n",
       "      <td>/Users/damoncrockett/Desktop/Leo/wordcounts/wo...</td>\n",
       "      <td>[symetrie, la, un, mathematique, et, une, est,...</td>\n",
       "      <td>1968</td>\n",
       "      <td>1</td>\n",
       "      <td>1.1968</td>\n",
       "    </tr>\n",
       "    <tr>\n",
       "      <th>2</th>\n",
       "      <td>/Users/damoncrockett/Desktop/Leo/wordcounts/wo...</td>\n",
       "      <td>[symetrie, les, invariants, gibson, la, en, un...</td>\n",
       "      <td>1968</td>\n",
       "      <td>1</td>\n",
       "      <td>1.1968</td>\n",
       "    </tr>\n",
       "    <tr>\n",
       "      <th>3</th>\n",
       "      <td>/Users/damoncrockett/Desktop/Leo/wordcounts/wo...</td>\n",
       "      <td>[monticelli, meissonier, vous, gauguin, je, ma...</td>\n",
       "      <td>1968</td>\n",
       "      <td>1</td>\n",
       "      <td>1.1968</td>\n",
       "    </tr>\n",
       "    <tr>\n",
       "      <th>4</th>\n",
       "      <td>/Users/damoncrockett/Desktop/Leo/wordcounts/wo...</td>\n",
       "      <td>[je, toner, rattan, imitatio, egelstelling, be...</td>\n",
       "      <td>1968</td>\n",
       "      <td>1</td>\n",
       "      <td>1.1968</td>\n",
       "    </tr>\n",
       "  </tbody>\n",
       "</table>\n",
       "</div>"
      ],
      "text/plain": [
       "                                          local_path  \\\n",
       "0  /Users/damoncrockett/Desktop/Leo/wordcounts/wo...   \n",
       "1  /Users/damoncrockett/Desktop/Leo/wordcounts/wo...   \n",
       "2  /Users/damoncrockett/Desktop/Leo/wordcounts/wo...   \n",
       "3  /Users/damoncrockett/Desktop/Leo/wordcounts/wo...   \n",
       "4  /Users/damoncrockett/Desktop/Leo/wordcounts/wo...   \n",
       "\n",
       "                                           top_words  year  month      my  \n",
       "0  [brodatz, textures, crystallography, physiolog...  1968      1  1.1968  \n",
       "1  [symetrie, la, un, mathematique, et, une, est,...  1968      1  1.1968  \n",
       "2  [symetrie, les, invariants, gibson, la, en, un...  1968      1  1.1968  \n",
       "3  [monticelli, meissonier, vous, gauguin, je, ma...  1968      1  1.1968  \n",
       "4  [je, toner, rattan, imitatio, egelstelling, be...  1968      1  1.1968  "
      ]
     },
     "execution_count": 27,
     "metadata": {},
     "output_type": "execute_result"
    }
   ],
   "source": [
    "df.head()"
   ]
  },
  {
   "cell_type": "code",
   "execution_count": 28,
   "metadata": {
    "collapsed": true
   },
   "outputs": [],
   "source": [
    "del df['year']\n",
    "del df['month']\n",
    "del df['local_path']"
   ]
  },
  {
   "cell_type": "code",
   "execution_count": 42,
   "metadata": {
    "collapsed": false
   },
   "outputs": [],
   "source": [
    "one = []\n",
    "two = []\n",
    "three = []\n",
    "four = []\n",
    "five = []\n",
    "six = []\n",
    "seven = []\n",
    "eight = []\n",
    "nine = []\n",
    "\n",
    "for i in range(len(df)):\n",
    "    l = df.top_words.loc[i]\n",
    "    \n",
    "    if len(l)==10:\n",
    "        one.append(l[0])\n",
    "        two.append(l[1])\n",
    "        three.append(l[2])\n",
    "        four.append(l[3])\n",
    "        five.append(l[4])\n",
    "        six.append(l[5])\n",
    "        seven.append(l[6])\n",
    "        eight.append(l[7])\n",
    "        nine.append(l[8])\n",
    "    else:\n",
    "        one.append(\"err\")\n",
    "        two.append(\"err\")\n",
    "        three.append(\"err\")\n",
    "        four.append(\"err\")\n",
    "        five.append(\"err\")\n",
    "        six.append(\"err\")\n",
    "        seven.append(\"err\")\n",
    "        eight.append(\"err\")\n",
    "        nine.append(\"err\")\n",
    "    \n",
    "df['one'] = one\n",
    "df['two'] = two\n",
    "df['three'] = three\n",
    "df['four'] = four\n",
    "df['five'] = five\n",
    "df['six'] = six\n",
    "df['seven'] = seven\n",
    "df['eight'] = eight\n",
    "df['nine'] = nine"
   ]
  },
  {
   "cell_type": "code",
   "execution_count": 46,
   "metadata": {
    "collapsed": false
   },
   "outputs": [],
   "source": [
    "df = df[df.one!=\"err\"]\n",
    "df = df[df.two!=\"err\"]\n",
    "df = df[df.three!=\"err\"]\n",
    "df = df[df.four!=\"err\"]\n",
    "df = df[df.five!=\"err\"]\n",
    "df = df[df.six!=\"err\"]\n",
    "df = df[df.seven!=\"err\"]\n",
    "df = df[df.eight!=\"err\"]\n",
    "df = df[df.nine!=\"err\"]"
   ]
  },
  {
   "cell_type": "code",
   "execution_count": 48,
   "metadata": {
    "collapsed": false
   },
   "outputs": [],
   "source": [
    "df.reset_index(drop=True,inplace=True)"
   ]
  },
  {
   "cell_type": "code",
   "execution_count": 50,
   "metadata": {
    "collapsed": false
   },
   "outputs": [],
   "source": [
    "del df['top_words']"
   ]
  },
  {
   "cell_type": "code",
   "execution_count": 52,
   "metadata": {
    "collapsed": false
   },
   "outputs": [],
   "source": [
    "df.to_csv(\"./p5.csv\",index=False)"
   ]
  }
 ],
 "metadata": {
  "kernelspec": {
   "display_name": "Python 2",
   "language": "python",
   "name": "python2"
  },
  "language_info": {
   "codemirror_mode": {
    "name": "ipython",
    "version": 2
   },
   "file_extension": ".py",
   "mimetype": "text/x-python",
   "name": "python",
   "nbconvert_exporter": "python",
   "pygments_lexer": "ipython2",
   "version": "2.7.10"
  }
 },
 "nbformat": 4,
 "nbformat_minor": 0
}
