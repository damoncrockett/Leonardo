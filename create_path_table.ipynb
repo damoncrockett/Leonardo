{
 "cells": [
  {
   "cell_type": "code",
   "execution_count": 35,
   "metadata": {
    "collapsed": true
   },
   "outputs": [],
   "source": [
    "DIR = \"/Users/damoncrockett/Desktop/Leo/Images_CLEAN/\"\n",
    "\n",
    "folders = []\n",
    "filenames = []\n",
    "\n",
    "import os\n",
    "\n",
    "for root, dirs, files, in os.walk(DIR):\n",
    "    for file in files:\n",
    "        folders.append(root)\n",
    "        filenames.append(file)\n",
    "        \n",
    "import pandas as pd\n",
    "\n",
    "df = pd.DataFrame(folders,columns=['dir'])\n",
    "\n",
    "df['img'] = filenames\n",
    "\n",
    "df['local_path'] = df['dir'] + \"/\" + df.img\n",
    "\n",
    "df.reset_index(drop=True,inplace=True)\n",
    "\n",
    "df = df[['local_path']]"
   ]
  },
  {
   "cell_type": "code",
   "execution_count": 36,
   "metadata": {
    "collapsed": false
   },
   "outputs": [
    {
     "data": {
      "text/plain": [
       "7072"
      ]
     },
     "execution_count": 36,
     "metadata": {},
     "output_type": "execute_result"
    }
   ],
   "source": [
    "len(df)"
   ]
  },
  {
   "cell_type": "code",
   "execution_count": 37,
   "metadata": {
    "collapsed": true
   },
   "outputs": [],
   "source": [
    "df.to_csv(\"./local_path.csv\",index=False)"
   ]
  },
  {
   "cell_type": "code",
   "execution_count": null,
   "metadata": {
    "collapsed": false
   },
   "outputs": [],
   "source": []
  },
  {
   "cell_type": "code",
   "execution_count": null,
   "metadata": {
    "collapsed": true
   },
   "outputs": [],
   "source": []
  }
 ],
 "metadata": {
  "kernelspec": {
   "display_name": "Python 2",
   "language": "python",
   "name": "python2"
  },
  "language_info": {
   "codemirror_mode": {
    "name": "ipython",
    "version": 2
   },
   "file_extension": ".py",
   "mimetype": "text/x-python",
   "name": "python",
   "nbconvert_exporter": "python",
   "pygments_lexer": "ipython2",
   "version": "2.7.10"
  }
 },
 "nbformat": 4,
 "nbformat_minor": 0
}
