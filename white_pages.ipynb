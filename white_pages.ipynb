{
 "cells": [
  {
   "cell_type": "code",
   "execution_count": 78,
   "metadata": {
    "collapsed": true
   },
   "outputs": [],
   "source": [
    "import pandas as pd\n",
    "from skimage import color\n",
    "from skimage.io import imread\n",
    "from skimage.feature import greycomatrix, greycoprops\n",
    "import numpy as np"
   ]
  },
  {
   "cell_type": "code",
   "execution_count": 127,
   "metadata": {
    "collapsed": true
   },
   "outputs": [],
   "source": [
    "df = pd.read_csv(\"./local_path.csv\")"
   ]
  },
  {
   "cell_type": "code",
   "execution_count": 128,
   "metadata": {
    "collapsed": true
   },
   "outputs": [],
   "source": [
    "props = ['contrast','dissimilarity','homogeneity','ASM','energy','correlation']"
   ]
  },
  {
   "cell_type": "code",
   "execution_count": 129,
   "metadata": {
    "collapsed": true
   },
   "outputs": [],
   "source": [
    "for i in range(len(df)):\n",
    "    s = df.local_path.loc[i]\n",
    "    if \"DS_Store\" in s:\n",
    "        df = df.drop(i)\n",
    "        \n",
    "df.reset_index(drop=True,inplace=True)"
   ]
  },
  {
   "cell_type": "code",
   "execution_count": 130,
   "metadata": {
    "collapsed": false
   },
   "outputs": [
    {
     "data": {
      "text/plain": [
       "6927"
      ]
     },
     "execution_count": 130,
     "metadata": {},
     "output_type": "execute_result"
    }
   ],
   "source": [
    "len(df)"
   ]
  },
  {
   "cell_type": "code",
   "execution_count": 131,
   "metadata": {
    "collapsed": false
   },
   "outputs": [],
   "source": [
    "brightness = []\n",
    "n_channels = []\n",
    "vector_list = []\n",
    "\n",
    "for file in df.local_path:    \n",
    "    img = imread(file)\n",
    "    channels = len(img.shape)\n",
    "    n_channels.append(channels)\n",
    "    img_gray = color.rgb2gray(img)\n",
    "    \n",
    "    # because the bw are [0,255] and the color are [0,1]\n",
    "    if channels == 2:\n",
    "        val_mean = np.mean(img_gray) / 255    \n",
    "    else:\n",
    "        val_mean = np.mean(img_gray)\n",
    "        \n",
    "    brightness.append(val_mean)\n",
    "    \n",
    "    glcm = greycomatrix(img_gray, [1], [0], levels=256, symmetric=True, normed=True)\n",
    "    \n",
    "    prop_vector = []\n",
    "    \n",
    "    for prop in props:\n",
    "        tmp = greycoprops(glcm, prop)\n",
    "        prop_vector.append(float(tmp))\n",
    "        \n",
    "    vector_list.append(np.asarray(prop_vector + [val_mean]))\n",
    "    \n",
    "X = np.vstack(vector_list)\n",
    "    \n",
    "df['val'] = brightness\n",
    "df['n_channels'] = n_channels"
   ]
  },
  {
   "cell_type": "code",
   "execution_count": 132,
   "metadata": {
    "collapsed": false
   },
   "outputs": [],
   "source": [
    "i_strings = []\n",
    "for i in range(len(df)):\n",
    "    s = df.local_path.loc[i]\n",
    "    i_string = s[45:].split(\"/\")[0]\n",
    "    i_strings.append(i_string)"
   ]
  },
  {
   "cell_type": "code",
   "execution_count": 133,
   "metadata": {
    "collapsed": false
   },
   "outputs": [],
   "source": [
    "df['i_strings'] = i_strings"
   ]
  },
  {
   "cell_type": "code",
   "execution_count": 134,
   "metadata": {
    "collapsed": true
   },
   "outputs": [],
   "source": [
    "from PIL import Image, ImageDraw\n",
    "from shapely.geometry import Point\n",
    "import os\n",
    "from sklearn.cluster import KMeans"
   ]
  },
  {
   "cell_type": "code",
   "execution_count": 135,
   "metadata": {
    "collapsed": false
   },
   "outputs": [],
   "source": [
    "k = 64\n",
    "\n",
    "kmeans = KMeans(n_clusters = k)\n",
    "kmeans.fit(X)\n",
    "\n",
    "#df = df[:len(vector_list)]\n",
    "\n",
    "df['clusters'] = kmeans.labels_"
   ]
  },
  {
   "cell_type": "code",
   "execution_count": 136,
   "metadata": {
    "collapsed": false
   },
   "outputs": [
    {
     "data": {
      "text/plain": [
       "6927"
      ]
     },
     "execution_count": 136,
     "metadata": {},
     "output_type": "execute_result"
    }
   ],
   "source": [
    "len(df)"
   ]
  },
  {
   "cell_type": "code",
   "execution_count": 137,
   "metadata": {
    "collapsed": true
   },
   "outputs": [],
   "source": [
    "import math"
   ]
  },
  {
   "cell_type": "code",
   "execution_count": 138,
   "metadata": {
    "collapsed": true
   },
   "outputs": [],
   "source": [
    "side = int(math.ceil( np.sqrt(len(df)) ))"
   ]
  },
  {
   "cell_type": "code",
   "execution_count": 139,
   "metadata": {
    "collapsed": false
   },
   "outputs": [],
   "source": [
    "thumb_side = 64"
   ]
  },
  {
   "cell_type": "code",
   "execution_count": 140,
   "metadata": {
    "collapsed": false
   },
   "outputs": [],
   "source": [
    "px_w = side * thumb_side\n",
    "px_h = side * thumb_side"
   ]
  },
  {
   "cell_type": "code",
   "execution_count": 141,
   "metadata": {
    "collapsed": true
   },
   "outputs": [],
   "source": [
    "df.sort([\"clusters\",\"val\"],ascending=False,inplace=True)"
   ]
  },
  {
   "cell_type": "code",
   "execution_count": 142,
   "metadata": {
    "collapsed": false
   },
   "outputs": [],
   "source": [
    "df.reset_index(drop=True,inplace=True)"
   ]
  },
  {
   "cell_type": "code",
   "execution_count": 143,
   "metadata": {
    "collapsed": false
   },
   "outputs": [],
   "source": [
    "canvas = Image.new('RGB',(px_w, px_h),(50,50,50))\n",
    "x,y = range(side) * side, np.repeat(range(side),side)\n",
    "df['x'] = x[:len(df)]\n",
    "df['y'] = y[:len(df)]"
   ]
  },
  {
   "cell_type": "code",
   "execution_count": 144,
   "metadata": {
    "collapsed": false
   },
   "outputs": [
    {
     "data": {
      "text/plain": [
       "6927"
      ]
     },
     "execution_count": 144,
     "metadata": {},
     "output_type": "execute_result"
    }
   ],
   "source": [
    "len(df)"
   ]
  },
  {
   "cell_type": "code",
   "execution_count": 126,
   "metadata": {
    "collapsed": false
   },
   "outputs": [],
   "source": [
    "for i in range(len(df)):\n",
    "    im = Image.open(df.local_path.loc[i])\n",
    "    im.thumbnail((thumb_side,thumb_side),Image.ANTIALIAS)\n",
    "    x_coord = df['x'].loc[i] * thumb_side\n",
    "    y_coord = df['y'].loc[i] * thumb_side\n",
    "    \n",
    "    pos_i = (40,5)\n",
    "    pos_i_string = (5,50)\n",
    "    i_string = df.i_strings.loc[i]\n",
    "    \n",
    "    draw = ImageDraw.Draw(im)\n",
    "    \n",
    "    if i < 5600:\n",
    "        draw.text(pos_i, str(i),fill=\"black\")\n",
    "        draw.text(pos_i_string,i_string,fill=\"black\")\n",
    "    else:\n",
    "        draw.text(pos_i, str(i),fill=\"white\")\n",
    "        draw.text(pos_i_string,i_string,fill=\"white\")\n",
    "    \n",
    "    canvas.paste(im,(x_coord,y_coord))\n",
    "    \n",
    "canvas.save(\"./white_pages_after.png\")"
   ]
  },
  {
   "cell_type": "code",
   "execution_count": 96,
   "metadata": {
    "collapsed": false
   },
   "outputs": [],
   "source": [
    "# dangerous move here, but deleting white pages...and more doubles"
   ]
  },
  {
   "cell_type": "code",
   "execution_count": 97,
   "metadata": {
    "collapsed": true
   },
   "outputs": [],
   "source": [
    "import os"
   ]
  },
  {
   "cell_type": "code",
   "execution_count": 98,
   "metadata": {
    "collapsed": true
   },
   "outputs": [],
   "source": [
    "white_pgs = [56,60,62,64,66,67,71,72,73,75,449,451,452,454,456,457,458,460,461,462,465,466,468,469,470,474,477,485,487,710,711,712,713,714,715,716,717,718,719,721,722,725,726,731,734,1006,1069,1070,1073,1074,1076,1079,1081,1084,1499,1500,1501,1502,1504,1505,1509,1510,1514,1521,1623,1624,1625,1626,1627,1628,1629,1630,1631,1858,1861,1862,1865,1867,2106,2109,2110,2111,2115,2350,2395,2402,2742,2743,2745,2746,2747,2751,3030,3036,3143,3142,3141,3140,3139,3147,3148,3150,3151,3152,3158,3565,3566,3593,3597,3598,3599,3607,3616,3618,3747,3753,3756,3781,3986,3989,3995,3996,4272,4273,4274,4276,4277,4278,4279,4280,4282,4283,4287,4291,4292,4293,4294,4297,4298,4301,4642,4648,4764,4766,4767,4768,4769,4770,4772,4773,4774,4776,4777,4778,4779,4931,4932,4933,4936,5201,5202,5203,5206,5207,5214,5224,5228,5258,5259,5264,5427,5806,6372,6387,6466,6482,6484,6485,6489,6491,6492,6493,6497,6498,6499,6508,6510,6511,6687,6742,6747,6748,6749,6752,6756,6761,6905]"
   ]
  },
  {
   "cell_type": "code",
   "execution_count": 99,
   "metadata": {
    "collapsed": false
   },
   "outputs": [
    {
     "data": {
      "text/plain": [
       "7124"
      ]
     },
     "execution_count": 99,
     "metadata": {},
     "output_type": "execute_result"
    }
   ],
   "source": [
    "len(df)"
   ]
  },
  {
   "cell_type": "code",
   "execution_count": 100,
   "metadata": {
    "collapsed": true
   },
   "outputs": [],
   "source": [
    "for i in white_pgs:\n",
    "    os.remove(df.local_path[i])"
   ]
  },
  {
   "cell_type": "code",
   "execution_count": 101,
   "metadata": {
    "collapsed": true
   },
   "outputs": [],
   "source": [
    "df = df.drop(white_pgs)"
   ]
  },
  {
   "cell_type": "code",
   "execution_count": 102,
   "metadata": {
    "collapsed": false
   },
   "outputs": [
    {
     "data": {
      "text/plain": [
       "6927"
      ]
     },
     "execution_count": 102,
     "metadata": {},
     "output_type": "execute_result"
    }
   ],
   "source": [
    "len(df)"
   ]
  },
  {
   "cell_type": "code",
   "execution_count": 103,
   "metadata": {
    "collapsed": true
   },
   "outputs": [],
   "source": [
    "df.reset_index(drop=True,inplace=True)"
   ]
  },
  {
   "cell_type": "code",
   "execution_count": 104,
   "metadata": {
    "collapsed": false
   },
   "outputs": [],
   "source": [
    "for i in range(len(df)):\n",
    "    if i==0:\n",
    "        val = df.val.loc[i]\n",
    "    else:\n",
    "        tmp = df.val.loc[i]\n",
    "        if tmp==val:\n",
    "            os.remove(df.local_path.loc[i])\n",
    "        else:\n",
    "            val = df.val.loc[i]"
   ]
  },
  {
   "cell_type": "code",
   "execution_count": 105,
   "metadata": {
    "collapsed": false
   },
   "outputs": [
    {
     "data": {
      "text/plain": [
       "6927"
      ]
     },
     "execution_count": 105,
     "metadata": {},
     "output_type": "execute_result"
    }
   ],
   "source": [
    "len(df)"
   ]
  },
  {
   "cell_type": "code",
   "execution_count": 106,
   "metadata": {
    "collapsed": true
   },
   "outputs": [],
   "source": [
    "df.to_csv(\"./local_path.csv\",index=False)"
   ]
  },
  {
   "cell_type": "code",
   "execution_count": 44,
   "metadata": {
    "collapsed": true
   },
   "outputs": [],
   "source": [
    "# now run create_path_table.ipynb..."
   ]
  },
  {
   "cell_type": "code",
   "execution_count": 107,
   "metadata": {
    "collapsed": true
   },
   "outputs": [],
   "source": [
    "df = pd.read_csv(\"./local_path.csv\")"
   ]
  },
  {
   "cell_type": "code",
   "execution_count": 108,
   "metadata": {
    "collapsed": false
   },
   "outputs": [
    {
     "data": {
      "text/plain": [
       "7059"
      ]
     },
     "execution_count": 108,
     "metadata": {},
     "output_type": "execute_result"
    }
   ],
   "source": [
    "len(df)"
   ]
  },
  {
   "cell_type": "code",
   "execution_count": null,
   "metadata": {
    "collapsed": true
   },
   "outputs": [],
   "source": []
  }
 ],
 "metadata": {
  "kernelspec": {
   "display_name": "Python 2",
   "language": "python",
   "name": "python2"
  },
  "language_info": {
   "codemirror_mode": {
    "name": "ipython",
    "version": 2
   },
   "file_extension": ".py",
   "mimetype": "text/x-python",
   "name": "python",
   "nbconvert_exporter": "python",
   "pygments_lexer": "ipython2",
   "version": "2.7.10"
  }
 },
 "nbformat": 4,
 "nbformat_minor": 0
}
