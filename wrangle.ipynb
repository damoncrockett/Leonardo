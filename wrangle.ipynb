{
 "cells": [
  {
   "cell_type": "code",
   "execution_count": 122,
   "metadata": {
    "collapsed": true
   },
   "outputs": [],
   "source": [
    "import pandas as pd"
   ]
  },
  {
   "cell_type": "code",
   "execution_count": 123,
   "metadata": {
    "collapsed": true
   },
   "outputs": [],
   "source": [
    "df = pd.read_csv(\"./citations 2.csv\")"
   ]
  },
  {
   "cell_type": "code",
   "execution_count": 124,
   "metadata": {
    "collapsed": true
   },
   "outputs": [],
   "source": [
    "DIR = \"/Users/damoncrockett/Desktop/Leo/\""
   ]
  },
  {
   "cell_type": "code",
   "execution_count": 125,
   "metadata": {
    "collapsed": false
   },
   "outputs": [],
   "source": [
    "local_path = []\n",
    "\n",
    "for i in range(len(df)):\n",
    "    filestring = DIR + \"wordcounts/wordcounts_\" + df.id.loc[i].split(\"/\")[0] + \"_\" + df.id.loc[i].split(\"/\")[1] + \".CSV\"\n",
    "    local_path.append(filestring)"
   ]
  },
  {
   "cell_type": "code",
   "execution_count": 126,
   "metadata": {
    "collapsed": false
   },
   "outputs": [],
   "source": [
    "df['local_path'] = local_path"
   ]
  },
  {
   "cell_type": "code",
   "execution_count": 127,
   "metadata": {
    "collapsed": false
   },
   "outputs": [],
   "source": [
    "for i in range(len(df)):\n",
    "    if df.issue.loc[i]==\"4-Mar\":\n",
    "        df.issue.loc[i] = \"4\"\n",
    "    elif df.issue.loc[i]==\"3-Feb\":\n",
    "        df.issue.loc[i] = \"3\""
   ]
  },
  {
   "cell_type": "code",
   "execution_count": 128,
   "metadata": {
    "collapsed": false
   },
   "outputs": [],
   "source": [
    "df['vol_iss'] = \"vol_\" + df.volume.apply(str) + \"_iss_\" + df.issue.apply(str)"
   ]
  },
  {
   "cell_type": "code",
   "execution_count": 129,
   "metadata": {
    "collapsed": true
   },
   "outputs": [],
   "source": [
    "#df.to_csv(DIR + \"citations_fixed.csv\",index=False)"
   ]
  },
  {
   "cell_type": "code",
   "execution_count": 130,
   "metadata": {
    "collapsed": false
   },
   "outputs": [],
   "source": [
    "issue_list = list(set(list(df.vol_iss)))"
   ]
  },
  {
   "cell_type": "code",
   "execution_count": 131,
   "metadata": {
    "collapsed": false
   },
   "outputs": [],
   "source": [
    "for issue in issue_list:\n",
    "    tmp = df[df.vol_iss==issue]\n",
    "    tmp.reset_index(drop=True,inplace=True)\n",
    "    for i in range(len(tmp)):\n",
    "        if i==0:\n",
    "            article_df = pd.read_csv(tmp.local_path.loc[i])\n",
    "        else:\n",
    "            article_df = article_df.append(pd.read_csv(tmp.local_path.loc[i]))\n",
    "    article_df.to_csv(DIR + \"issues/\" + issue + \".csv\",index=False)"
   ]
  },
  {
   "cell_type": "code",
   "execution_count": 132,
   "metadata": {
    "collapsed": true
   },
   "outputs": [],
   "source": [
    "import glob\n",
    "import os\n",
    "import numpy as np"
   ]
  },
  {
   "cell_type": "code",
   "execution_count": 133,
   "metadata": {
    "collapsed": true
   },
   "outputs": [],
   "source": [
    "for file in glob.glob(os.path.join(DIR + \"issues/\", \"*.csv\")):\n",
    "    tmp = pd.read_csv(file)\n",
    "    tmp = tmp.groupby(\"WORDCOUNTS\").agg(np.sum)\n",
    "    tmp.to_csv(file)"
   ]
  }
 ],
 "metadata": {
  "kernelspec": {
   "display_name": "Python 2",
   "language": "python",
   "name": "python2"
  },
  "language_info": {
   "codemirror_mode": {
    "name": "ipython",
    "version": 2
   },
   "file_extension": ".py",
   "mimetype": "text/x-python",
   "name": "python",
   "nbconvert_exporter": "python",
   "pygments_lexer": "ipython2",
   "version": "2.7.10"
  }
 },
 "nbformat": 4,
 "nbformat_minor": 0
}
